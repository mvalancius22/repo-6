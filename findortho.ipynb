{
  "nbformat": 4,
  "nbformat_minor": 0,
  "metadata": {
    "kernelspec": {
      "display_name": "Python 3",
      "language": "python",
      "name": "python3"
    },
    "language_info": {
      "codemirror_mode": {
        "name": "ipython",
        "version": 3
      },
      "file_extension": ".py",
      "mimetype": "text/x-python",
      "name": "python",
      "nbconvert_exporter": "python",
      "pygments_lexer": "ipython3",
      "version": "3.8.5"
    },
    "colab": {
      "name": "findortho.ipynb",
      "provenance": [],
      "include_colab_link": true
    }
  },
  "cells": [
    {
      "cell_type": "markdown",
      "metadata": {
        "id": "view-in-github",
        "colab_type": "text"
      },
      "source": [
        "<a href=\"https://colab.research.google.com/github/mvalancius22/repo-6/blob/main/findortho.ipynb\" target=\"_parent\"><img src=\"https://colab.research.google.com/assets/colab-badge.svg\" alt=\"Open In Colab\"/></a>"
      ]
    },
    {
      "cell_type": "markdown",
      "metadata": {
        "id": "3Mk6PIyMfjX-"
      },
      "source": [
        "# CLI with argparse\n",
        "Example \n",
        "```bash\n",
        "./findortho.py -i1 file_1.fasta -i2 file_2.fasta -o output_file -t n\n",
        "```"
      ]
    },
    {
      "cell_type": "code",
      "metadata": {
        "id": "WjUt-6WAfjYD",
        "outputId": "d235112f-5450-4717-be54-c54bbfafb1b2"
      },
      "source": [
        "!cat findortho.py"
      ],
      "execution_count": null,
      "outputs": [
        {
          "name": "stdout",
          "output_type": "stream",
          "text": [
            "#!/bin/env python3\r\n",
            "import argparse\r\n",
            "import subprocess\r\n",
            "from pathlib import Path\r\n",
            "\r\n",
            "def cli_parse():\r\n",
            "    \"\"\"Genome sequence CLI parsing.\"\"\"\r\n",
            "    parser = argparse.ArgumentParser(description='find reciprocal best hits')\r\n",
            "    parser.add_argument('-i1',\r\n",
            "                        required=True,\r\n",
            "                        help='first input sequence file')\r\n",
            "    parser.add_argument('-i2',\r\n",
            "                        required=True,\r\n",
            "                        help='second input sequence file')\r\n",
            "    parser.add_argument('-o',\r\n",
            "                        required=True,\r\n",
            "                        help='output file')\r\n",
            "    parser.add_argument('-t',\r\n",
            "                        required=True,\r\n",
            "                        choices=['n','p'],\r\n",
            "                        help='p for protein, n for nucleotide')\r\n",
            "    \r\n",
            "    return parser.parse_args()\r\n",
            "\r\n",
            "def cleanup():\r\n",
            "    delete = {'.nhr','.nin','.nsq'}\r\n",
            "    for p in Path.cwd().iterdir():\r\n",
            "        if p.suffix in delete:\r\n",
            "            p.unlink()\r\n",
            "\r\n",
            "def make_db(in_file, sequence):\r\n",
            "    v = subprocess.check_output(['makeblastdb',\r\n",
            "                                 '-in',\r\n",
            "                                 in_file,\r\n",
            "                                 '-dbtype',\r\n",
            "                                 sequence\r\n",
            "                                 ])\r\n",
            "\r\n",
            "def make_blast(param_one, param_two):\r\n",
            "    return subprocess.check_output(['blastn',\r\n",
            "                                    '-query',\r\n",
            "                                    param_one,\r\n",
            "                                    '-db',\r\n",
            "                                    param_two,\r\n",
            "                                    '-outfmt',\r\n",
            "                                    '6 qseqid sseqid pident qcovs'\r\n",
            "                                    ])\r\n",
            "\r\n",
            "def best_hits(found_hits):\r\n",
            "    pairs = {}\r\n",
            "    for line in found_hits.split('\\n'):\r\n",
            "        i = line.split('\\t')\r\n",
            "        if i[0] not in pairs or (i[0] in pairs and pairs[i[0]][1] < i[2]):\r\n",
            "            pairs[i[0]] = i[1], i[2]\r\n",
            "    return pairs\r\n",
            "\r\n",
            "def blast(parse_info):\r\n",
            "    \"\"\"Comment\"\"\"\r\n",
            "    if parse_info.t == 'n':\r\n",
            "        seq = 'nucl'\r\n",
            "    else:\r\n",
            "        seq = 'prot'\r\n",
            "\r\n",
            "    make_db(parse_info.i1,seq)\r\n",
            "    make_db(parse_info.i2,seq)\r\n",
            "    save_one = make_blast(parse_info.i1, parse_info.i2)\r\n",
            "    save_two = make_blast(parse_info.i2, parse_info.i1)\r\n",
            "\r\n",
            "    str_one = save_one.decode('utf-8').strip()\r\n",
            "    str_two = save_two.decode('utf-8').strip()\r\n",
            "\r\n",
            "    input_one = best_hits(str_one)\r\n",
            "    input_two = best_hits(str_two)\r\n",
            "    \r\n",
            "    with open(parse_info.o, 'w') as writer:\r\n",
            "        for i, j in input_one.items():\r\n",
            "            if j[0] in input_two and input_two[j[0]][0] == i:\r\n",
            "                writer.write(i + '\\t' + j[0] + '\\n')\r\n",
            "\r\n",
            "def main():\r\n",
            "    parsed = cli_parse()\r\n",
            "    blast(parsed)\r\n",
            "    cleanup()\r\n",
            "\r\n",
            "if __name__ == \"__main__\":\r\n",
            "    main()\r\n"
          ]
        }
      ]
    },
    {
      "cell_type": "code",
      "metadata": {
        "id": "ircX_FnefjYF",
        "outputId": "f18027ac-f1a7-4bd5-d820-476e0e8998dd"
      },
      "source": [
        "!./findortho.py"
      ],
      "execution_count": null,
      "outputs": [
        {
          "name": "stdout",
          "output_type": "stream",
          "text": [
            "usage: findortho.py [-h] -i1 I1 -i2 I2 -o O -t {n,p}\r\n",
            "findortho.py: error: the following arguments are required: -i1, -i2, -o, -t\r\n"
          ]
        }
      ]
    },
    {
      "cell_type": "code",
      "metadata": {
        "id": "a33RRXhnfjYG",
        "outputId": "ad8602d4-297d-4466-a7c7-a4cad51b999d"
      },
      "source": [
        "!./findortho.py -h"
      ],
      "execution_count": null,
      "outputs": [
        {
          "name": "stdout",
          "output_type": "stream",
          "text": [
            "usage: findortho.py [-h] -i1 I1 -i2 I2 -o O -t {n,p}\r\n",
            "\r\n",
            "find reciprocal best hits\r\n",
            "\r\n",
            "optional arguments:\r\n",
            "  -h, --help  show this help message and exit\r\n",
            "  -i1 I1      first input sequence file\r\n",
            "  -i2 I2      second input sequence file\r\n",
            "  -o O        output file\r\n",
            "  -t {n,p}    p for protein, n for nucleotide\r\n"
          ]
        }
      ]
    },
    {
      "cell_type": "code",
      "metadata": {
        "id": "pJeGi423fjYG"
      },
      "source": [
        "!./findortho.py -i1 fam18.fasta -i2 mc58.fasta -o output -t n"
      ],
      "execution_count": null,
      "outputs": []
    },
    {
      "cell_type": "code",
      "metadata": {
        "id": "qmLXKUCefjYG",
        "outputId": "45124fb2-335a-4d65-895f-314deb6e207e"
      },
      "source": [
        "!ls"
      ],
      "execution_count": null,
      "outputs": [
        {
          "name": "stdout",
          "output_type": "stream",
          "text": [
            "fam18.fasta  findortho.ipynb  findortho.py  mc58.fasta\tMC58.fasta  output\r\n"
          ]
        }
      ]
    },
    {
      "cell_type": "code",
      "metadata": {
        "id": "wJwT4hixfjYH",
        "outputId": "03a7a3fc-dcf2-4378-a5da-4895e2fc2aa4"
      },
      "source": [
        "!head output"
      ],
      "execution_count": null,
      "outputs": [
        {
          "name": "stdout",
          "output_type": "stream",
          "text": [
            "lcl|NC_008767.1_cds_WP_002220060.1_5\tlcl|NC_003112.2_cds_NP_273083.1_16\r\n",
            "lcl|NC_008767.1_cds_WP_002220064.1_8\tlcl|NC_003112.2_cds_YP_338284.1_18\r\n",
            "lcl|NC_008767.1_cds_WP_002218455.1_10\tlcl|NC_003112.2_cds_NP_273093.1_26\r\n",
            "lcl|NC_008767.1_cds_WP_002218456.1_11\tlcl|NC_003112.2_cds_NP_273094.1_27\r\n",
            "lcl|NC_008767.1_cds_WP_002218457.1_12\tlcl|NC_003112.2_cds_NP_273095.1_28\r\n",
            "lcl|NC_008767.1_cds_WP_011798736.1_13\tlcl|NC_003112.2_cds_NP_273096.1_29\r\n",
            "lcl|NC_008767.1_cds_WP_002218459.1_14\tlcl|NC_003112.2_cds_NP_273097.1_30\r\n",
            "lcl|NC_008767.1_cds_WP_002220075.1_15\tlcl|NC_003112.2_cds_NP_273098.1_31\r\n",
            "lcl|NC_008767.1_cds_WP_002220077.1_16\tlcl|NC_003112.2_cds_NP_273099.1_32\r\n",
            "lcl|NC_008767.1_cds_WP_002220079.1_17\tlcl|NC_003112.2_cds_NP_273100.1_33\r\n"
          ]
        }
      ]
    }
  ]
}